{
 "cells": [
  {
   "cell_type": "code",
   "execution_count": 2,
   "metadata": {},
   "outputs": [],
   "source": [
    "import torch\n",
    "from torchvision import transforms, datasets\n",
    "from torchvision.transforms import CenterCrop\n",
    "from torch.utils.data import DataLoader, TensorDataset, Dataset\n",
    "\n",
    "device = torch.device(\"cuda:0\" if torch.cuda.is_available() else \"cpu\")"
   ]
  },
  {
   "cell_type": "code",
   "execution_count": 3,
   "metadata": {},
   "outputs": [],
   "source": [
    "data_transform = transforms.Compose([\n",
    "        transforms.RandomResizedCrop(32),\n",
    "        transforms.RandomHorizontalFlip(),\n",
    "        transforms.ToTensor(),\n",
    "    ])\n",
    "\n",
    "trainset = datasets.ImageFolder(root=\"../../datasets/flowers/\", transform=data_transform)"
   ]
  },
  {
   "cell_type": "code",
   "execution_count": 4,
   "metadata": {},
   "outputs": [
    {
     "data": {
      "text/plain": [
       "Dataset ImageFolder\n",
       "    Number of datapoints: 4323\n",
       "    Root Location: ../../datasets/flowers/\n",
       "    Transforms (if any): Compose(\n",
       "                             RandomResizedCrop(size=(32, 32), scale=(0.08, 1.0), ratio=(0.75, 1.3333), interpolation=PIL.Image.BILINEAR)\n",
       "                             RandomHorizontalFlip(p=0.5)\n",
       "                             ToTensor()\n",
       "                         )\n",
       "    Target Transforms (if any): None"
      ]
     },
     "execution_count": 4,
     "metadata": {},
     "output_type": "execute_result"
    }
   ],
   "source": [
    "trainset"
   ]
  },
  {
   "cell_type": "code",
   "execution_count": 5,
   "metadata": {},
   "outputs": [
    {
     "ename": "SyntaxError",
     "evalue": "positional argument follows keyword argument (sampler.py, line 6)",
     "output_type": "error",
     "traceback": [
      "Traceback \u001b[0;36m(most recent call last)\u001b[0m:\n",
      "  File \u001b[1;32m\"/usr/local/lib/python3.6/site-packages/IPython/core/interactiveshell.py\"\u001b[0m, line \u001b[1;32m3267\u001b[0m, in \u001b[1;35mrun_code\u001b[0m\n    exec(code_obj, self.user_global_ns, self.user_ns)\n",
      "\u001b[0;36m  File \u001b[0;32m\"<ipython-input-5-1cb293789080>\"\u001b[0;36m, line \u001b[0;32m1\u001b[0;36m, in \u001b[0;35m<module>\u001b[0;36m\u001b[0m\n\u001b[0;31m    from utils.data import sampler\u001b[0m\n",
      "\u001b[0;36m  File \u001b[0;32m\"/Users/jedi/Repo/Training/PyTorch_training/flowers/utils/data/sampler.py\"\u001b[0;36m, line \u001b[0;32m6\u001b[0m\n\u001b[0;31m    skf = StratifiedShuffleSplit(test_size=val_size, random_state)\u001b[0m\n\u001b[0m                                                    ^\u001b[0m\n\u001b[0;31mSyntaxError\u001b[0m\u001b[0;31m:\u001b[0m positional argument follows keyword argument\n"
     ]
    }
   ],
   "source": [
    "from utils.data import sampler\n",
    "\n",
    "batch_size = 64\n",
    "\n",
    "trainloader = DataLoader(\n",
    "    dataset = trainset, \n",
    "    #sampler = sampler.StratifiedSampler(data_source=trainset, n_splits=5, random_state=69, sample_train=True),\n",
    "    #batch_size = batch_size,\n",
    ")\n",
    "\n",
    "valloader = DataLoader(\n",
    "    dataset = trainset, \n",
    "    #sampler = sampler.StratifiedSampler(data_source=trainset, n_splits=5, random_state=69, sample_train=False),\n",
    "    #batch_size = batch_size,\n",
    ")\n",
    "\n",
    "classes_name = trainset.classes"
   ]
  },
  {
   "cell_type": "code",
   "execution_count": 6,
   "metadata": {},
   "outputs": [
    {
     "name": "stdout",
     "output_type": "stream",
     "text": [
      "Sequential(\n",
      "  (0): Conv2d(3, 6, kernel_size=(5, 5), stride=(1, 1))\n",
      "  (1): ReLU()\n",
      "  (2): MaxPool2d(kernel_size=2, stride=2, padding=0, dilation=1, ceil_mode=False)\n",
      "  (3): Conv2d(6, 16, kernel_size=(5, 5), stride=(1, 1))\n",
      "  (4): ReLU()\n",
      "  (5): MaxPool2d(kernel_size=2, stride=2, padding=0, dilation=1, ceil_mode=False)\n",
      "  (6): Flatten()\n",
      "  (7): Linear(in_features=400, out_features=120, bias=True)\n",
      "  (8): Linear(in_features=120, out_features=84, bias=True)\n",
      "  (9): Linear(in_features=84, out_features=10, bias=True)\n",
      ")\n"
     ]
    }
   ],
   "source": [
    "import torch.nn as nn\n",
    "\n",
    "class Flatten(nn.Module):\n",
    "    def __init__(self):\n",
    "        super(Flatten, self).__init__()\n",
    "    \n",
    "    def forward(self, x):\n",
    "        x = x.view(x.size(0), -1)\n",
    "        return x\n",
    "\n",
    "LeNet = nn.Sequential(\n",
    "    nn.Conv2d(in_channels=3, out_channels=6, kernel_size=5),\n",
    "    nn.ReLU(),\n",
    "    nn.MaxPool2d(kernel_size=2, stride=2),\n",
    "    nn.Conv2d(in_channels=6, out_channels=16, kernel_size=5),\n",
    "    nn.ReLU(),\n",
    "    nn.MaxPool2d(kernel_size=2, stride=2),\n",
    "    Flatten(),\n",
    "    nn.Linear(in_features=16*5*5, out_features=120),\n",
    "    nn.Linear(in_features=120, out_features=84),\n",
    "    nn.Linear(in_features=84, out_features=10),\n",
    "    )\n",
    "\n",
    "LeNet.to(device)\n",
    "print(LeNet)"
   ]
  },
  {
   "cell_type": "code",
   "execution_count": null,
   "metadata": {},
   "outputs": [],
   "source": [
    "# define loss function and optimizer\n",
    "\n",
    "import torch.optim as optim\n",
    "\n",
    "loss_fn = nn.CrossEntropyLoss()\n",
    "optimizer = optim.SGD(LeNet.parameters(), lr=0.001, momentum=0.9)"
   ]
  },
  {
   "cell_type": "code",
   "execution_count": null,
   "metadata": {},
   "outputs": [],
   "source": [
    "# training\n",
    "\n",
    "from tqdm import tqdm\n",
    "\n",
    "loss_history = []\n",
    "accuracy_history = []\n",
    "\n",
    "for epoch in tqdm(range(10)):\n",
    "    classes_correct = list(0. for i in range(5))\n",
    "    classes_total = list(0. for i in range(5))\n",
    "    \n",
    "    for i, train_pixels in enumerate(trainloader):\n",
    "        \n",
    "        # take input\n",
    "        pixels, label = train_pixels\n",
    "        \n",
    "        # make sure gradient is 0\n",
    "        optimizer.zero_grad()\n",
    "        \n",
    "        # forward pass\n",
    "        pixels = pixels.to(device)\n",
    "        prediction = LeNet(pixels)\n",
    "        \n",
    "        # calculate loss & record it \n",
    "        loss_score = loss_fn(prediction, label)\n",
    "        \n",
    "        if i == (trainloader.__len__()-1): \n",
    "            loss_history.append(loss_score)\n",
    "        \n",
    "        # calculate accuracy & record it\n",
    "        _, prediction_label = torch.max(prediction, dim=1)\n",
    "        \n",
    "        for i,j in zip(label,prediction_label):\n",
    "            if i == j:\n",
    "                classes_correct[i] += 1\n",
    "            classes_total[i] += 1\n",
    "        \n",
    "        # backprop\n",
    "        loss_score.backward()\n",
    "        \n",
    "        # update weight \n",
    "        optimizer.step()\n",
    "    \n",
    "    accuracy_per_epoch = sum(classes_correct)/sum(classes_total)\n",
    "    accuracy_history.append(accuracy_per_epoch)\n",
    "        "
   ]
  },
  {
   "cell_type": "code",
   "execution_count": null,
   "metadata": {},
   "outputs": [],
   "source": [
    "for i,(j,k) in enumerate(zip(classes_correct, classes_total)):\n",
    "    print(\"Accuracy of %s is %d%s\" % (classes_name[i], j/k*100, \"%\"))"
   ]
  },
  {
   "cell_type": "code",
   "execution_count": null,
   "metadata": {},
   "outputs": [],
   "source": [
    "import matplotlib.pyplot as plt\n",
    "%matplotlib inline\n",
    "\n",
    "plt.plot(loss_history, label=\"cross entropy loss\");\n",
    "plt.plot(accuracy_history, label=\"accuracy\")\n",
    "plt.xlabel('iterations');\n",
    "plt.ylabel('metric');\n",
    "plt.legend();"
   ]
  },
  {
   "cell_type": "code",
   "execution_count": null,
   "metadata": {},
   "outputs": [],
   "source": [
    "class_correct = list(0. for i in range(5))\n",
    "class_total = list(0. for i in range(5))\n",
    "\n",
    "# validation\n",
    "with torch.no_grad():\n",
    "    for i, val_pixels in tqdm(enumerate(valloader)):\n",
    "        \n",
    "        # take pixels\n",
    "        pixels, label = val_pixels\n",
    "        \n",
    "        # forward pass\n",
    "        prediction = LeNet(pixels)\n",
    "        \n",
    "        # count accuracy\n",
    "        _,prediction_label = torch.max(prediction, dim=1)\n",
    "        for i,j in zip(label, prediction_label):\n",
    "            if i==j:\n",
    "                class_correct[i] += 1\n",
    "            class_total[i] += 1\n"
   ]
  },
  {
   "cell_type": "code",
   "execution_count": null,
   "metadata": {},
   "outputs": [],
   "source": [
    "for i,(j,k) in enumerate(zip(class_correct, class_total)):\n",
    "    print(\"Accuracy of %s is: %d%s\"  % (classes_name[i], j/k*100, \"%\"))"
   ]
  },
  {
   "cell_type": "code",
   "execution_count": null,
   "metadata": {},
   "outputs": [],
   "source": [
    "trainloader.__len__()"
   ]
  },
  {
   "cell_type": "code",
   "execution_count": null,
   "metadata": {},
   "outputs": [],
   "source": []
  }
 ],
 "metadata": {
  "kernelspec": {
   "display_name": "Python 3",
   "language": "python",
   "name": "python3"
  },
  "language_info": {
   "codemirror_mode": {
    "name": "ipython",
    "version": 3
   },
   "file_extension": ".py",
   "mimetype": "text/x-python",
   "name": "python",
   "nbconvert_exporter": "python",
   "pygments_lexer": "ipython3",
   "version": "3.6.5"
  }
 },
 "nbformat": 4,
 "nbformat_minor": 2
}
