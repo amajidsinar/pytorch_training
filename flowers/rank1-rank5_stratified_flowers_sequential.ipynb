{
 "cells": [
  {
   "cell_type": "code",
   "execution_count": 54,
   "metadata": {},
   "outputs": [
    {
     "name": "stdout",
     "output_type": "stream",
     "text": [
      "cpu\n"
     ]
    }
   ],
   "source": [
    "import torch\n",
    "from torchvision import transforms, datasets\n",
    "from torchvision.transforms import CenterCrop\n",
    "from torch.utils.data import DataLoader, TensorDataset, Dataset\n",
    "\n",
    "device = torch.device(\"cuda:0\" if torch.cuda.is_available() else \"cpu\")\n",
    "print(device)"
   ]
  },
  {
   "cell_type": "code",
   "execution_count": 55,
   "metadata": {},
   "outputs": [
    {
     "name": "stdout",
     "output_type": "stream",
     "text": [
      "Training set consists of 4323 images\n"
     ]
    }
   ],
   "source": [
    "data_transform = transforms.Compose([\n",
    "        transforms.RandomResizedCrop(32),\n",
    "        transforms.RandomHorizontalFlip(),\n",
    "        transforms.ToTensor(),\n",
    "    ])\n",
    "\n",
    "trainset = datasets.ImageFolder(root=\"../../datasets/flowers/\", transform=data_transform)\n",
    "print(\"Training set consists of %d images\" % (trainset.__len__()))"
   ]
  },
  {
   "cell_type": "code",
   "execution_count": 56,
   "metadata": {},
   "outputs": [
    {
     "data": {
      "text/plain": [
       "['daisy', 'dandelion', 'rose', 'sunflower', 'tulip']"
      ]
     },
     "execution_count": 56,
     "metadata": {},
     "output_type": "execute_result"
    }
   ],
   "source": [
    "from utils.data import sampler\n",
    "\n",
    "batch_size = 128\n",
    "\n",
    "trainloader = DataLoader(\n",
    "    dataset = trainset, \n",
    "    sampler = sampler.StratifiedSampler(data_source=trainset, n_splits=1, val_size=0.4, random_state=69, sample_train=True),\n",
    "    batch_size = batch_size,\n",
    ")\n",
    "\n",
    "valloader = DataLoader(\n",
    "    dataset = trainset, \n",
    "    sampler = sampler.StratifiedSampler(data_source=trainset, n_splits=1, val_size=0.4, random_state=69, sample_train=False),\n",
    "    batch_size = batch_size,\n",
    ")\n",
    "\n",
    "classes_name = trainset.classes\n",
    "classes_name"
   ]
  },
  {
   "cell_type": "code",
   "execution_count": 57,
   "metadata": {},
   "outputs": [
    {
     "name": "stdout",
     "output_type": "stream",
     "text": [
      "Sequential(\n",
      "  (0): Conv2d(3, 6, kernel_size=(5, 5), stride=(1, 1))\n",
      "  (1): ReLU()\n",
      "  (2): MaxPool2d(kernel_size=2, stride=2, padding=0, dilation=1, ceil_mode=False)\n",
      "  (3): Conv2d(6, 16, kernel_size=(5, 5), stride=(1, 1))\n",
      "  (4): ReLU()\n",
      "  (5): MaxPool2d(kernel_size=2, stride=2, padding=0, dilation=1, ceil_mode=False)\n",
      "  (6): Flatten()\n",
      "  (7): Linear(in_features=400, out_features=120, bias=True)\n",
      "  (8): Linear(in_features=120, out_features=84, bias=True)\n",
      "  (9): Linear(in_features=84, out_features=10, bias=True)\n",
      ")\n"
     ]
    }
   ],
   "source": [
    "import torch.nn as nn\n",
    "\n",
    "class Flatten(nn.Module):\n",
    "    def __init__(self):\n",
    "        super().__init__()\n",
    "    \n",
    "    def forward(self, x):\n",
    "        x = x.view(x.size(0), -1)\n",
    "        return x\n",
    "\n",
    "LeNet = nn.Sequential(\n",
    "    nn.Conv2d(in_channels=3, out_channels=6, kernel_size=5),\n",
    "    nn.ReLU(),\n",
    "    nn.MaxPool2d(kernel_size=2, stride=2),\n",
    "    nn.Conv2d(in_channels=6, out_channels=16, kernel_size=5),\n",
    "    nn.ReLU(),\n",
    "    nn.MaxPool2d(kernel_size=2, stride=2),\n",
    "    Flatten(),\n",
    "    nn.Linear(in_features=16*5*5, out_features=120),\n",
    "    nn.Linear(in_features=120, out_features=84),\n",
    "    nn.Linear(in_features=84, out_features=10),\n",
    "    )\n",
    "\n",
    "LeNet.to(device)\n",
    "print(LeNet)"
   ]
  },
  {
   "cell_type": "code",
   "execution_count": 58,
   "metadata": {},
   "outputs": [],
   "source": [
    "# define loss function and optimizer\n",
    "\n",
    "import torch.optim as optim\n",
    "\n",
    "loss_fn = nn.CrossEntropyLoss()\n",
    "optimizer = optim.SGD(LeNet.parameters(), lr=0.001, momentum=0.9)"
   ]
  },
  {
   "cell_type": "code",
   "execution_count": 59,
   "metadata": {},
   "outputs": [
    {
     "name": "stderr",
     "output_type": "stream",
     "text": [
      "\n",
      "  0%|          | 0/2 [00:00<?, ?it/s]\u001b[A\n",
      " 50%|█████     | 1/2 [00:25<00:25, 25.70s/it]\u001b[A\n",
      "100%|██████████| 2/2 [00:48<00:00, 24.83s/it]\u001b[A\n",
      "\u001b[A"
     ]
    }
   ],
   "source": [
    "# training\n",
    "import numpy as np\n",
    "from tqdm import tqdm\n",
    "\n",
    "loss_history = []\n",
    "rank1_accuracy_history = []\n",
    "rank3_accuracy_history = []\n",
    "\n",
    "for epoch in tqdm(range(2)):\n",
    "    rank1_classes_correct = list(0. for i in range(len(classes_name)))\n",
    "    rank3_classes_correct = list(0. for i in range(len(classes_name)))\n",
    "    classes_total = list(0. for i in range(len(classes_name)))\n",
    "    \n",
    "    for i, train_data in enumerate(trainloader):\n",
    "        \n",
    "        # take input\n",
    "        pixels, label = train_data\n",
    "        \n",
    "        # make sure gradient is 0\n",
    "        optimizer.zero_grad()\n",
    "        \n",
    "        # forward pass\n",
    "        pixels, label = pixels.to(device), label.to(device)\n",
    "        label = label.to(device)\n",
    "        prediction = LeNet(pixels)\n",
    "        \n",
    "        # calculate loss & record it \n",
    "        loss_score = loss_fn(prediction, label)\n",
    "        \n",
    "        if i == (trainloader.__len__()-1): \n",
    "            loss_history.append(loss_score)\n",
    "        \n",
    "        # calculate accuracy & record it\n",
    "        for i, j in (torch.nonzero(torch.topk(prediction, 3)[1]  == label.view(label.size(0),-1))).tolist():\n",
    "            if j == 0:\n",
    "                rank1_classes_correct[label[i]] += 1\n",
    "            else:\n",
    "                rank3_classes_correct[label[i]] += 1\n",
    "        \n",
    "        for i in label:\n",
    "            classes_total[i] += 1\n",
    "        # backprop\n",
    "        loss_score.backward()\n",
    "        \n",
    "        # update weight \n",
    "        optimizer.step()\n",
    "    \n",
    "    rank1_accuracy_per_epoch = np.sum(rank1_classes_correct) / np.sum(classes_total)\n",
    "    rank1_accuracy_history.append(rank1_accuracy_per_epoch)\n",
    "    rank3_accuracy_per_epoch = np.sum(rank3_classes_correct) / np.sum(classes_total)\n",
    "    rank3_accuracy_history.append(rank3_accuracy_per_epoch)"
   ]
  },
  {
   "cell_type": "code",
   "execution_count": 60,
   "metadata": {},
   "outputs": [
    {
     "name": "stdout",
     "output_type": "stream",
     "text": [
      "Accuracy of daisy is 0%\n",
      "Accuracy of dandelion is 29%\n",
      "Accuracy of rose is 72%\n",
      "Accuracy of sunflower is 0%\n",
      "Accuracy of tulip is 0%\n"
     ]
    }
   ],
   "source": [
    "for i,(j,k) in enumerate(zip(rank1_classes_correct, classes_total)):\n",
    "    print(\"Accuracy of %s is %d%s\" % (classes_name[i], j/k*100, \"%\"))"
   ]
  },
  {
   "cell_type": "code",
   "execution_count": 68,
   "metadata": {},
   "outputs": [
    {
     "data": {
      "text/plain": [
       "[308.0, 421.0, 314.0, 293.0, 394.0]"
      ]
     },
     "execution_count": 68,
     "metadata": {},
     "output_type": "execute_result"
    }
   ],
   "source": [
    "classes_total"
   ]
  },
  {
   "cell_type": "code",
   "execution_count": 61,
   "metadata": {},
   "outputs": [
    {
     "name": "stdout",
     "output_type": "stream",
     "text": [
      "Accuracy of daisy is 4%\n",
      "Accuracy of dandelion is 49%\n",
      "Accuracy of rose is 27%\n",
      "Accuracy of sunflower is 76%\n",
      "Accuracy of tulip is 23%\n"
     ]
    }
   ],
   "source": [
    "for i,(j,k) in enumerate(zip(rank3_classes_correct, classes_total)):\n",
    "    print(\"Accuracy of %s is %d%s\" % (classes_name[i], j/k*100, \"%\"))"
   ]
  },
  {
   "cell_type": "code",
   "execution_count": 62,
   "metadata": {},
   "outputs": [
    {
     "data": {
      "image/png": "[encoded data removed]",
      "text/plain": [
       "<Figure size 432x288 with 1 Axes>"
      ]
     },
     "metadata": {
      "needs_background": "light"
     },
     "output_type": "display_data"
    }
   ],
   "source": [
    "import matplotlib.pyplot as plt\n",
    "%matplotlib inline\n",
    "\n",
    "plt.plot(loss_history, label=\"cross entropy loss\");\n",
    "plt.plot(rank1_accuracy_history, label=\"rank-1 accuracy\")\n",
    "plt.plot(rank5_accuracy_history, label=\"rank-3 accuracy\")\n",
    "plt.xlabel('iterations');\n",
    "plt.ylabel('metric');\n",
    "plt.legend();"
   ]
  },
  {
   "cell_type": "code",
   "execution_count": 63,
   "metadata": {},
   "outputs": [
    {
     "name": "stderr",
     "output_type": "stream",
     "text": [
      "\n",
      "0it [00:00, ?it/s]\u001b[A\n",
      "1it [00:01,  1.64s/it]\u001b[A\n",
      "2it [00:02,  1.44s/it]\u001b[A\n",
      "3it [00:03,  1.31s/it]\u001b[A\n",
      "4it [00:04,  1.25s/it]\u001b[A\n",
      "5it [00:05,  1.17s/it]\u001b[A\n",
      "6it [00:07,  1.22s/it]\u001b[A\n",
      "7it [00:08,  1.21s/it]\u001b[A\n",
      "8it [00:09,  1.19s/it]\u001b[A\n",
      "9it [00:10,  1.24s/it]\u001b[A\n",
      "10it [00:12,  1.33s/it]\u001b[A\n",
      "11it [00:13,  1.31s/it]\u001b[A\n",
      "12it [00:14,  1.25s/it]\u001b[A\n",
      "13it [00:15,  1.18s/it]\u001b[A\n",
      "14it [00:16,  1.01it/s]\u001b[A\n",
      "\u001b[A"
     ]
    }
   ],
   "source": [
    "rank1_classes_correct = list(0. for i in range(len(classes_name)))\n",
    "rank3_classes_correct = list(0. for i in range(len(classes_name)))\n",
    "classes_total = list(0. for i in range(len(classes_name)))\n",
    "    \n",
    "\n",
    "# validation\n",
    "with torch.no_grad():\n",
    "    for i, val_data in tqdm(enumerate(valloader)):\n",
    "        \n",
    "        # take pixels\n",
    "        pixels, label = val_data\n",
    "        pixels, label = pixels.to(device), label.to(device)\n",
    "        \n",
    "        # forward pass\n",
    "        prediction = LeNet(pixels)\n",
    "        \n",
    "        # count accuracy\n",
    "        for i, j in (torch.nonzero(torch.topk(prediction, 3)[1]  == label.view(label.size(0),-1))).tolist():\n",
    "            if j == 0:\n",
    "                rank1_classes_correct[label[i]] += 1\n",
    "            else:\n",
    "                rank3_classes_correct[label[i]] += 1\n",
    "                \n",
    "        for i in label:\n",
    "            classes_total[i] += 1\n"
   ]
  },
  {
   "cell_type": "code",
   "execution_count": 64,
   "metadata": {},
   "outputs": [
    {
     "name": "stdout",
     "output_type": "stream",
     "text": [
      "Accuracy of daisy is: 0%\n",
      "Accuracy of dandelion is: 20%\n",
      "Accuracy of rose is: 1%\n",
      "Accuracy of sunflower is: 0%\n",
      "Accuracy of tulip is: 0%\n"
     ]
    }
   ],
   "source": [
    "for i,(j,k) in enumerate(zip(rank1_classes_correct, class_total)):\n",
    "    print(\"Accuracy of %s is: %d%s\"  % (classes_name[i], j/k*100, \"%\"))"
   ]
  },
  {
   "cell_type": "code",
   "execution_count": 65,
   "metadata": {},
   "outputs": [
    {
     "name": "stdout",
     "output_type": "stream",
     "text": [
      "Accuracy of daisy is: 0%\n",
      "Accuracy of dandelion is: 1%\n",
      "Accuracy of rose is: 20%\n",
      "Accuracy of sunflower is: 1%\n",
      "Accuracy of tulip is: 19%\n"
     ]
    }
   ],
   "source": [
    "for i,(j,k) in enumerate(zip(rank3_classes_correct, class_total)):\n",
    "    print(\"Accuracy of %s is: %d%s\"  % (classes_name[i], j/k*100, \"%\"))"
   ]
  }
 ],
 "metadata": {
  "kernelspec": {
   "display_name": "Python 3",
   "language": "python",
   "name": "python3"
  },
  "language_info": {
   "codemirror_mode": {
    "name": "ipython",
    "version": 3
   },
   "file_extension": ".py",
   "mimetype": "text/x-python",
   "name": "python",
   "nbconvert_exporter": "python",
   "pygments_lexer": "ipython3",
   "version": "3.6.5"
  }
 },
 "nbformat": 4,
 "nbformat_minor": 2
}
