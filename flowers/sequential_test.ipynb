{
 "cells": [
  {
   "cell_type": "code",
   "execution_count": 6,
   "metadata": {},
   "outputs": [
    {
     "name": "stdout",
     "output_type": "stream",
     "text": [
      "cuda:0\n"
     ]
    }
   ],
   "source": [
    "import torch\n",
    "from torchvision import transforms, datasets\n",
    "from torchvision.transforms import CenterCrop\n",
    "from torch.utils.data import DataLoader, TensorDataset, Dataset\n",
    "\n",
    "device = torch.device(\"cuda:0\" if torch.cuda.is_available() else \"cpu\")\n",
    "print(device)"
   ]
  },
  {
   "cell_type": "code",
   "execution_count": 7,
   "metadata": {},
   "outputs": [
    {
     "name": "stdout",
     "output_type": "stream",
     "text": [
      "Training set consists of 4324 images\n"
     ]
    }
   ],
   "source": [
    "data_transform = transforms.Compose([\n",
    "        transforms.RandomResizedCrop(32),\n",
    "        transforms.RandomHorizontalFlip(),\n",
    "        transforms.ToTensor(),\n",
    "    ])\n",
    "\n",
    "trainset = datasets.ImageFolder(root=\"../datasets/images/flowers/\", transform=data_transform)\n",
    "print(\"Training set consists of %d images\" % (trainset.__len__()))"
   ]
  },
  {
   "cell_type": "code",
   "execution_count": 8,
   "metadata": {},
   "outputs": [],
   "source": [
    "from utils.data import sampler\n",
    "\n",
    "batch_size = 64\n",
    "\n",
    "trainloader = DataLoader(\n",
    "    dataset = trainset, \n",
    "    #sampler = sampler.StratifiedSampler(data_source=trainset, n_splits=1, val_size=0.4, random_state=69, sample_train=True),\n",
    "    batch_size = batch_size,\n",
    ")\n",
    "\n",
    "valloader = DataLoader(\n",
    "    dataset = trainset, \n",
    "    #sampler = sampler.StratifiedSampler(data_source=trainset, n_splits=1, val_size=0.4, random_state=69, sample_train=False),\n",
    "    batch_size = batch_size,\n",
    ")\n",
    "\n",
    "classes_name = trainset.classes"
   ]
  },
  {
   "cell_type": "code",
   "execution_count": 9,
   "metadata": {},
   "outputs": [
    {
     "data": {
      "text/plain": [
       "68"
      ]
     },
     "execution_count": 9,
     "metadata": {},
     "output_type": "execute_result"
    }
   ],
   "source": [
    "trainloader.__len__()"
   ]
  },
  {
   "cell_type": "code",
   "execution_count": 10,
   "metadata": {},
   "outputs": [
    {
     "name": "stdout",
     "output_type": "stream",
     "text": [
      "Sequential(\n",
      "  (0): Conv2d(3, 6, kernel_size=(5, 5), stride=(1, 1))\n",
      "  (1): ReLU()\n",
      "  (2): MaxPool2d(kernel_size=2, stride=2, padding=0, dilation=1, ceil_mode=False)\n",
      "  (3): Conv2d(6, 16, kernel_size=(5, 5), stride=(1, 1))\n",
      "  (4): ReLU()\n",
      "  (5): MaxPool2d(kernel_size=2, stride=2, padding=0, dilation=1, ceil_mode=False)\n",
      "  (6): Flatten()\n",
      "  (7): Linear(in_features=400, out_features=120, bias=True)\n",
      "  (8): Linear(in_features=120, out_features=84, bias=True)\n",
      "  (9): Linear(in_features=84, out_features=10, bias=True)\n",
      ")\n"
     ]
    }
   ],
   "source": [
    "import torch.nn as nn\n",
    "\n",
    "class Flatten(nn.Module):\n",
    "    def __init__(self):\n",
    "        super().__init__()\n",
    "    \n",
    "    def forward(self, x):\n",
    "        x = x.view(x.size(0), -1)\n",
    "        return x\n",
    "\n",
    "LeNet = nn.Sequential(\n",
    "    nn.Conv2d(in_channels=3, out_channels=6, kernel_size=5),\n",
    "    nn.ReLU(),\n",
    "    nn.MaxPool2d(kernel_size=2, stride=2),\n",
    "    nn.Conv2d(in_channels=6, out_channels=16, kernel_size=5),\n",
    "    nn.ReLU(),\n",
    "    nn.MaxPool2d(kernel_size=2, stride=2),\n",
    "    Flatten(),\n",
    "    nn.Linear(in_features=16*5*5, out_features=120),\n",
    "    nn.Linear(in_features=120, out_features=84),\n",
    "    nn.Linear(in_features=84, out_features=10),\n",
    "    )\n",
    "\n",
    "LeNet.to(device)\n",
    "print(LeNet)"
   ]
  },
  {
   "cell_type": "code",
   "execution_count": 11,
   "metadata": {},
   "outputs": [],
   "source": [
    "# define loss function and optimizer\n",
    "\n",
    "import torch.optim as optim\n",
    "\n",
    "loss_fn = nn.CrossEntropyLoss()\n",
    "optimizer = optim.SGD(LeNet.parameters(), lr=0.001, momentum=0.9)"
   ]
  },
  {
   "cell_type": "code",
   "execution_count": 12,
   "metadata": {},
   "outputs": [
    {
     "name": "stderr",
     "output_type": "stream",
     "text": [
      "100%|██████████| 100/100 [22:49<00:00, 13.69s/it]\n"
     ]
    }
   ],
   "source": [
    "# training\n",
    "\n",
    "from tqdm import tqdm\n",
    "\n",
    "loss_history = []\n",
    "accuracy_history = []\n",
    "\n",
    "for epoch in tqdm(range(100)):\n",
    "    classes_correct = list(0. for i in range(5))\n",
    "    classes_total = list(0. for i in range(5))\n",
    "    \n",
    "    for i, train_data in enumerate(trainloader):\n",
    "        \n",
    "        # take input\n",
    "        pixels, label = train_data\n",
    "        \n",
    "        # make sure gradient is 0\n",
    "        optimizer.zero_grad()\n",
    "        \n",
    "        # forward pass\n",
    "        pixels, label = pixels.to(device), label.to(device)\n",
    "        label = label.to(device)\n",
    "        prediction = LeNet(pixels)\n",
    "        \n",
    "        # calculate loss & record it \n",
    "        loss_score = loss_fn(prediction, label)\n",
    "        \n",
    "        if i == (trainloader.__len__()-1): \n",
    "            loss_history.append(loss_score)\n",
    "        \n",
    "        # calculate accuracy & record it\n",
    "        _, prediction_label = torch.max(prediction, dim=1)\n",
    "        \n",
    "        for i,j in zip(label,prediction_label):\n",
    "            if i == j:\n",
    "                classes_correct[i] += 1\n",
    "            classes_total[i] += 1\n",
    "        \n",
    "        # backprop\n",
    "        loss_score.backward()\n",
    "        \n",
    "        # update weight \n",
    "        optimizer.step()\n",
    "    \n",
    "    accuracy_per_epoch = sum(classes_correct)/sum(classes_total)\n",
    "    accuracy_history.append(accuracy_per_epoch)\n",
    "        "
   ]
  },
  {
   "cell_type": "code",
   "execution_count": 14,
   "metadata": {},
   "outputs": [
    {
     "name": "stdout",
     "output_type": "stream",
     "text": [
      "Accuracy of daisy is 0%\n",
      "Accuracy of dandelion is 75%\n",
      "Accuracy of rose is 0%\n",
      "Accuracy of sunflower is 8%\n",
      "Accuracy of tulip is 27%\n"
     ]
    }
   ],
   "source": [
    "for i,(j,k) in enumerate(zip(classes_correct, classes_total)):\n",
    "    print(\"Accuracy of %s is %d%s\" % (classes_name[i], j/k*100, \"%\"))"
   ]
  },
  {
   "cell_type": "code",
   "execution_count": 15,
   "metadata": {},
   "outputs": [
    {
     "name": "stdout",
     "output_type": "stream",
     "text": [
      "[0.0, 789.0, 6.0, 66.0, 268.0]\n",
      "[770.0, 1052.0, 784.0, 734.0, 984.0]\n",
      "0.2611008325624422\n"
     ]
    }
   ],
   "source": [
    "print(classes_correct)\n",
    "print(classes_total)\n",
    "print(sum(classes_correct)/sum(classes_total))"
   ]
  },
  {
   "cell_type": "code",
   "execution_count": 16,
   "metadata": {},
   "outputs": [
    {
     "data": {
      "image/png": "[encoded data removed]",
      "text/plain": [
       "<matplotlib.figure.Figure at 0x7fe283486eb8>"
      ]
     },
     "metadata": {},
     "output_type": "display_data"
    }
   ],
   "source": [
    "import matplotlib.pyplot as plt\n",
    "%matplotlib inline\n",
    "\n",
    "plt.plot(loss_history, label=\"cross entropy loss\");\n",
    "plt.plot(accuracy_history, label=\"accuracy\")\n",
    "plt.xlabel('iterations');\n",
    "plt.ylabel('metric');\n",
    "plt.legend();"
   ]
  },
  {
   "cell_type": "code",
   "execution_count": 18,
   "metadata": {},
   "outputs": [
    {
     "name": "stderr",
     "output_type": "stream",
     "text": [
      "68it [00:13,  4.91it/s]\n"
     ]
    }
   ],
   "source": [
    "class_correct = list(0. for i in range(5))\n",
    "class_total = list(0. for i in range(5))\n",
    "\n",
    "# validation\n",
    "with torch.no_grad():\n",
    "    for i, val_data in tqdm(enumerate(valloader)):\n",
    "        \n",
    "        # take pixels\n",
    "        pixels, label = val_data\n",
    "        pixels, label = pixels.to(device), label.to(device)\n",
    "        \n",
    "        # forward pass\n",
    "        prediction = LeNet(pixels)\n",
    "        \n",
    "        # count accuracy\n",
    "        _,prediction_label = torch.max(prediction, dim=1)\n",
    "        for i,j in zip(label, prediction_label):\n",
    "            if i==j:\n",
    "                class_correct[i] += 1\n",
    "            class_total[i] += 1\n"
   ]
  },
  {
   "cell_type": "code",
   "execution_count": 19,
   "metadata": {},
   "outputs": [
    {
     "name": "stdout",
     "output_type": "stream",
     "text": [
      "Accuracy of daisy is: 0%\n",
      "Accuracy of dandelion is: 69%\n",
      "Accuracy of rose is: 5%\n",
      "Accuracy of sunflower is: 58%\n",
      "Accuracy of tulip is: 65%\n"
     ]
    }
   ],
   "source": [
    "for i,(j,k) in enumerate(zip(class_correct, class_total)):\n",
    "    print(\"Accuracy of %s is: %d%s\"  % (classes_name[i], j/k*100, \"%\"))"
   ]
  },
  {
   "cell_type": "code",
   "execution_count": null,
   "metadata": {},
   "outputs": [],
   "source": []
  }
 ],
 "metadata": {
  "kernelspec": {
   "display_name": "Python 3",
   "language": "python",
   "name": "python3"
  },
  "language_info": {
   "codemirror_mode": {
    "name": "ipython",
    "version": 3
   },
   "file_extension": ".py",
   "mimetype": "text/x-python",
   "name": "python",
   "nbconvert_exporter": "python",
   "pygments_lexer": "ipython3",
   "version": "3.5.2"
  }
 },
 "nbformat": 4,
 "nbformat_minor": 2
}
